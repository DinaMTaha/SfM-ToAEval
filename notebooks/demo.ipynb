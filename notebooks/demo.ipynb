{
  "cells": [
    {
      "cell_type": "code",
      "execution_count": null,
      "metadata": {},
      "outputs": [],
      "source": [
        "%cd / content/sfm_toaeval/notebooks\n"
      ]
    },
    {
      "cell_type": "code",
      "execution_count": null,
      "metadata": {},
      "outputs": [],
      "source": [
        "%pip install - -use-feature = in -tree-build ../\n"
      ]
    },
    {
      "cell_type": "code",
      "execution_count": 3,
      "metadata": {},
      "outputs": [],
      "source": [
        "import os\n",
        "import glob\n",
        "import numpy as np\n",
        "import subprocess\n",
        "import logging\n",
        "import sqlite3\n",
        "from sfm_toaeval.data.dataset import Dataset\n",
        "from sfm_toaeval.data.database import Database\n",
        "from sfm_toaeval.experiment import Experiment\n",
        "from sfm_toaeval.analysis.analyzer import Analyzer\n",
        "from sfm_toaeval.visualization.visualizer import Visualizer\n",
        "from IPython.display import Image\n",
        "from sqlalchemy import MetaData\n",
        "from sqlalchemy_schemadisplay import create_schema_graph\n"
      ]
    },
    {
      "cell_type": "code",
      "execution_count": 4,
      "metadata": {},
      "outputs": [],
      "source": [
        "raw_path = '../data/raw'\n",
        "processed_path = '../data/processed/'\n",
        "databases_path = '../data/databases/'\n",
        "point_clouds_path = '../data/point_clouds/'\n",
        "database_path = os.path.join(databases_path, 'main.sqlite')\n",
        "analysis_database_path = os.path.join(databases_path, 'analysis.sqlite')\n"
      ]
    },
    {
      "cell_type": "code",
      "execution_count": null,
      "metadata": {},
      "outputs": [],
      "source": [
        "git_path = os.path.join(raw_path, 'SfM_quality_evaluation/')\n",
        "sequences_path = os.path.join(\n",
        "    git_path, 'Benchmarking_Camera_Calibration_2008/*/')\n"
      ]
    },
    {
      "cell_type": "code",
      "execution_count": null,
      "metadata": {},
      "outputs": [],
      "source": [
        "!git clone https://github.com/openMVG/SfM_quality_evaluation.git $git_path\n",
        "!cp -r -n $sequences_path $processed_path\n"
      ]
    },
    {
      "cell_type": "code",
      "execution_count": 6,
      "metadata": {},
      "outputs": [],
      "source": [
        "logging.getLogger().setLevel(logging.INFO)\n"
      ]
    },
    {
      "cell_type": "code",
      "execution_count": null,
      "metadata": {},
      "outputs": [],
      "source": [
        "K = np.array([[2759.48, 0, 1520.69], [0, 2764.16, 1006.81], [0, 0, 1]])\n",
        "dataset = Dataset(processed_path, K, 'jpg')\n",
        "dataset.load()\n",
        "display(dataset.sequences)\n"
      ]
    },
    {
      "cell_type": "code",
      "execution_count": null,
      "metadata": {},
      "outputs": [],
      "source": [
        "database = Database(database_path)\n",
        "dataset.evaluate(\n",
        "    database,\n",
        "    databases_path,\n",
        "    point_clouds_path,\n",
        "    ['SIFT', 'SURF', 'FAST'],\n",
        "    ['SIFT', 'SURF', 'DAISY'],\n",
        ")\n",
        "database.close()\n"
      ]
    },
    {
      "cell_type": "code",
      "execution_count": null,
      "metadata": {},
      "outputs": [],
      "source": [
        "graph = create_schema_graph(metadata=MetaData('sqlite:///' + database_path),\n",
        "                            show_datatypes=True,\n",
        "                            show_indexes=True,\n",
        "                            concentrate=False,\n",
        "                            rankdir='LR',\n",
        "                            relation_options={\n",
        "    'fontsize': '6.0',\n",
        "    'color': 'blue',\n",
        "    'minlen': 2,\n",
        "},\n",
        ")\n",
        "graph.del_node('sqlite_sequence')\n",
        "display(Image(graph.create_png()))\n",
        "graph.write_svg('../reports/figures/ERD.svg')\n"
      ]
    },
    {
      "cell_type": "code",
      "execution_count": 14,
      "metadata": {},
      "outputs": [],
      "source": [
        "analyzer = Analyzer(database_path, point_clouds_path, analysis_database_path)\n",
        "analyzer.analyze()\n"
      ]
    },
    {
      "cell_type": "code",
      "execution_count": null,
      "metadata": {},
      "outputs": [],
      "source": [
        "%matplotlib agg\n",
        "visualizer = Visualizer(analysis_database_path)\n",
        "fig = visualizer.visualize_density_accuracy()\n",
        "display(fig)\n",
        "fig.savefig('../reports/figures/radar_chart.svg')\n"
      ]
    },
    {
      "cell_type": "code",
      "execution_count": null,
      "metadata": {},
      "outputs": [],
      "source": [
        "fig = visualizer.visualize_trade_off()\n",
        "display(fig)\n",
        "fig.savefig('../reports/figures/size-error_curves.svg')\n"
      ]
    }
  ],
  "metadata": {
    "kernelspec": {
      "display_name": "Python 3.8.10 64-bit",
      "language": "python",
      "name": "python3"
    },
    "language_info": {
      "name": "python",
      "version": "3.8.10"
    },
    "vscode": {
      "interpreter": {
        "hash": "916dbcbb3f70747c44a77c7bcd40155683ae19c65e1c03b4aa3499c5328201f1"
      }
    }
  },
  "nbformat": 4,
  "nbformat_minor": 0
}
